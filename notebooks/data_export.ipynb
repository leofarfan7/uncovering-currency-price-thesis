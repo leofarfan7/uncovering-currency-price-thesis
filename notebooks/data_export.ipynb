{
 "cells": [
  {
   "cell_type": "code",
   "id": "initial_id",
   "metadata": {
    "collapsed": true,
    "ExecuteTime": {
     "end_time": "2025-05-31T22:49:28.017329Z",
     "start_time": "2025-05-31T22:49:28.014801Z"
    }
   },
   "source": [
    "import pandas as pd\n",
    "\n",
    "from config import DATA_DIR\n",
    "from utils.mongo_controller import mongo_controller"
   ],
   "outputs": [],
   "execution_count": 24
  },
  {
   "metadata": {
    "ExecuteTime": {
     "end_time": "2025-05-31T22:49:28.033253Z",
     "start_time": "2025-05-31T22:49:28.030442Z"
    }
   },
   "cell_type": "code",
   "source": [
    "def extract_usdt_bob_binance_data(row):\n",
    "    data = row['USDT_BOB_Binance']\n",
    "    if isinstance(data, dict):\n",
    "        return pd.Series({\n",
    "            'USDT_BOB_Binance_sell_vwap': data.get('sell_vwap'),\n",
    "            'USDT_BOB_Binance_buy_vwap': data.get('buy_vwap'),\n",
    "            'USDT_BOB_Binance_sell_volume': data.get('sell_volume'),\n",
    "            'USDT_BOB_Binance_buy_volume': data.get('buy_volume')\n",
    "        })\n",
    "    else:\n",
    "        # If data is None (or not a dict), return None for each new column\n",
    "        return pd.Series({\n",
    "            'USDT_BOB_Binance_sell_vwap': None,\n",
    "            'USDT_BOB_Binance_buy_vwap': None,\n",
    "            'USDT_BOB_Binance_sell_volume': None,\n",
    "            'USDT_BOB_Binance_buy_volume': None\n",
    "        })"
   ],
   "id": "4f3d08c0ed218877",
   "outputs": [],
   "execution_count": 25
  },
  {
   "metadata": {
    "ExecuteTime": {
     "end_time": "2025-05-31T22:49:28.048631Z",
     "start_time": "2025-05-31T22:49:28.046484Z"
    }
   },
   "cell_type": "code",
   "source": [
    "def extract_usd_bob_parallel_data(row):\n",
    "    data = row['USD_BOB_Parallel']\n",
    "    if isinstance(data, dict):\n",
    "        return pd.Series({\n",
    "            'USD_BOB_Parallel_sell_price': data.get('exchange_rate')\n",
    "        })\n",
    "    else:\n",
    "        # If data is None (or not a dict), return None for each new column\n",
    "        return pd.Series({\n",
    "            'USD_BOB_Parallel_sell_price': None\n",
    "        })"
   ],
   "id": "86b74b721936c7de",
   "outputs": [],
   "execution_count": 26
  },
  {
   "metadata": {
    "ExecuteTime": {
     "end_time": "2025-05-31T22:49:28.061157Z",
     "start_time": "2025-05-31T22:49:28.058902Z"
    }
   },
   "cell_type": "code",
   "source": [
    "def extract_daily_usd_bob_parallel_curve(row):\n",
    "    data = row.get('USD_BOB_Parallel_series', None)\n",
    "    return pd.Series({'USD_BOB_Parallel_series': data})\n",
    "\n",
    "\n",
    "def extract_other_usd_bob_parallel_curve(row):\n",
    "    data = row.get('USD_BOB_Parallel', None)\n",
    "    if data is not None and isinstance(data, dict):\n",
    "        return pd.Series({'USD_BOB_Parallel_series': data.get('series_average')})\n",
    "    else:\n",
    "        return pd.Series({'USD_BOB_Parallel_series': None})\n"
   ],
   "id": "3350ec9da5492001",
   "outputs": [],
   "execution_count": 27
  },
  {
   "metadata": {
    "ExecuteTime": {
     "end_time": "2025-05-31T22:49:28.072484Z",
     "start_time": "2025-05-31T22:49:28.070653Z"
    }
   },
   "cell_type": "code",
   "source": [
    "def extract_usd_bob_tarjeta_data(row):\n",
    "    data = row['USD_BOB_Tarjeta']\n",
    "    if isinstance(data, dict):\n",
    "        return pd.Series({\n",
    "            'USD_BOB_Tarjeta_sell_price': data.get('sell_price')\n",
    "        })\n",
    "    else:\n",
    "        # If data is None (or not a dict), return None for each new column\n",
    "        return pd.Series({\n",
    "            'USD_BOB_Tarjeta_sell_price': None\n",
    "        })"
   ],
   "id": "9d69e06cf5c6f7fe",
   "outputs": [],
   "execution_count": 28
  },
  {
   "metadata": {
    "ExecuteTime": {
     "end_time": "2025-05-31T22:49:28.089652Z",
     "start_time": "2025-05-31T22:49:28.087035Z"
    }
   },
   "cell_type": "code",
   "source": [
    "def extract_usdt_ars_binance_data(row):\n",
    "    data = row['USDT_ARS_Binance']\n",
    "    if isinstance(data, dict):\n",
    "        return pd.Series({\n",
    "            'USDT_ARS_Binance_sell_vwap': data.get('sell_vwap'),\n",
    "            'USDT_ARS_Binance_buy_vwap': data.get('buy_vwap'),\n",
    "            'USDT_ARS_Binance_sell_volume': data.get('sell_volume'),\n",
    "            'USDT_ARS_Binance_buy_volume': data.get('buy_volume')\n",
    "        })\n",
    "    else:\n",
    "        # If data is None (or not a dict), return None for each new column\n",
    "        return pd.Series({\n",
    "            'USDT_ARS_Binance_sell_vwap': None,\n",
    "            'USDT_ARS_Binance_buy_vwap': None,\n",
    "            'USDT_ARS_Binance_sell_volume': None,\n",
    "            'USDT_ARS_Binance_buy_volume': None\n",
    "        })"
   ],
   "id": "27962cdda9d9b3ac",
   "outputs": [],
   "execution_count": 29
  },
  {
   "metadata": {
    "ExecuteTime": {
     "end_time": "2025-05-31T22:49:28.102366Z",
     "start_time": "2025-05-31T22:49:28.099498Z"
    }
   },
   "cell_type": "code",
   "source": [
    "def extract_usd_ars_parallel_data(row):\n",
    "    data = row['USD_ARS_Parallel']\n",
    "    if isinstance(data, dict):\n",
    "        return pd.Series({\n",
    "            'USDT_ARS_Parallel_sell_price': data.get('sell_price')\n",
    "        })\n",
    "    else:\n",
    "        # If data is None (or not a dict), return None for each new column\n",
    "        return pd.Series({\n",
    "            'USDT_ARS_Parallel_sell_price': None\n",
    "        })"
   ],
   "id": "48cdda85b9c51f06",
   "outputs": [],
   "execution_count": 30
  },
  {
   "metadata": {
    "ExecuteTime": {
     "end_time": "2025-05-31T22:49:28.114888Z",
     "start_time": "2025-05-31T22:49:28.112545Z"
    }
   },
   "cell_type": "code",
   "source": [
    "def extract_usdt_ars_tradingview_data(row):\n",
    "    data = row['USDT_ARS_TradingView']\n",
    "    if isinstance(data, dict):\n",
    "        return pd.Series({\n",
    "            'USDT_ARS_TradingView_open': data.get('open'),\n",
    "            'USDT_ARS_TradingView_close': data.get('close'),\n",
    "            'USDT_ARS_TradingView_high': data.get('high'),\n",
    "            'USDT_ARS_TradingView_low': data.get('low'),\n",
    "            'USDT_ARS_TradingView_volume': data.get('volume')\n",
    "        })\n",
    "    else:\n",
    "        # If data is None (or not a dict), return None for each new column\n",
    "        return pd.Series({\n",
    "            'USDT_ARS_TradingView_open': None,\n",
    "            'USDT_ARS_TradingView_close': None,\n",
    "            'USDT_ARS_TradingView_high': None,\n",
    "            'USDT_ARS_TradingView_low': None,\n",
    "            'USDT_ARS_TradingView_volume': None\n",
    "        })"
   ],
   "id": "ad791582d311af1a",
   "outputs": [],
   "execution_count": 31
  },
  {
   "metadata": {
    "ExecuteTime": {
     "end_time": "2025-05-31T22:49:28.126934Z",
     "start_time": "2025-05-31T22:49:28.124504Z"
    }
   },
   "cell_type": "code",
   "source": [
    "def extract_usd_ars_official(row):\n",
    "    data = row['USD_ARS_Official']\n",
    "    if isinstance(data, dict):\n",
    "        return pd.Series({\n",
    "            'USD_ARS_Official_open': data.get('open'),\n",
    "            'USD_ARS_Official_close': data.get('close'),\n",
    "            'USD_ARS_Official_high': data.get('high'),\n",
    "            'USD_ARS_Official_low': data.get('low')\n",
    "        })\n",
    "    else:\n",
    "        # If data is None (or not a dict), return None for each new column\n",
    "        return pd.Series({\n",
    "            'USD_ARS_Official_open': None,\n",
    "            'USD_ARS_Official_close': None,\n",
    "            'USD_ARS_Official_high': None,\n",
    "            'USD_ARS_Official_low': None\n",
    "        })"
   ],
   "id": "554f3a1b98912dac",
   "outputs": [],
   "execution_count": 32
  },
  {
   "metadata": {
    "ExecuteTime": {
     "end_time": "2025-05-31T22:54:03.445992Z",
     "start_time": "2025-05-31T22:54:02.113748Z"
    }
   },
   "cell_type": "code",
   "source": [
    "for fiat_currency in ['ARS', 'BOB']:\n",
    "    for data_mode in ['Quarterly', 'Monthly', 'Daily']:\n",
    "        data_source_df = mongo_controller.query_data(_mode='all', collection=f'{data_mode}_Averages')\n",
    "        data_source_df = data_source_df.drop(columns=['_id', 'USD_BOB_Official'])\n",
    "        data_final_df = data_source_df.copy()\n",
    "\n",
    "        if fiat_currency == 'BOB':\n",
    "            expanded_columns = data_source_df.apply(extract_usdt_bob_binance_data, axis=1)\n",
    "            data_final_df = data_final_df.join(expanded_columns)\n",
    "\n",
    "            if data_mode != 'Daily':\n",
    "                expanded_columns = data_source_df.apply(extract_other_usd_bob_parallel_curve, axis=1)\n",
    "                data_final_df = data_final_df.join(expanded_columns)\n",
    "\n",
    "            # expanded_columns = data_source_df.apply(extract_usd_bob_parallel_data, axis=1)\n",
    "            # data_final_df = data_final_df.join(expanded_columns)\n",
    "\n",
    "            expanded_columns = data_source_df.apply(extract_usd_bob_tarjeta_data, axis=1)\n",
    "            data_final_df = data_final_df.join(expanded_columns)\n",
    "\n",
    "            data_final_df.drop(columns=['USDT_BOB_Binance', 'USD_BOB_Parallel', 'USD_BOB_Tarjeta'], inplace=True)\n",
    "            data_final_df.drop(\n",
    "                columns=['USDT_ARS_Binance', 'USD_ARS_Parallel', 'USDT_ARS_TradingView', 'USD_ARS_Official'],\n",
    "                inplace=True)\n",
    "\n",
    "        if fiat_currency == 'ARS':\n",
    "            # expanded_columns = data_source_df.apply(extract_usdt_ars_binance_data, axis=1)\n",
    "            # data_final_df = data_final_df.join(expanded_columns)\n",
    "\n",
    "            expanded_columns = data_source_df.apply(extract_usd_ars_parallel_data, axis=1)\n",
    "            data_final_df = data_final_df.join(expanded_columns)\n",
    "\n",
    "            expanded_columns = data_source_df.apply(extract_usdt_ars_tradingview_data, axis=1)\n",
    "            data_final_df = data_final_df.join(expanded_columns)\n",
    "\n",
    "            expanded_columns = data_source_df.apply(extract_usd_ars_official, axis=1)\n",
    "            data_final_df = data_final_df.join(expanded_columns)\n",
    "\n",
    "            data_final_df.drop(\n",
    "                columns=['USDT_ARS_Binance', 'USD_ARS_Parallel', 'USDT_ARS_TradingView', 'USD_ARS_Official'],\n",
    "                inplace=True)\n",
    "            data_final_df.drop(columns=['USDT_BOB_Binance', 'USD_BOB_Parallel', 'USD_BOB_Tarjeta'], inplace=True)\n",
    "            if data_mode == 'Daily':\n",
    "                data_final_df.drop(columns=['USD_BOB_Parallel_series'], inplace=True)\n",
    "\n",
    "        if data_mode == 'Daily':\n",
    "            data_final_df = data_final_df.sort_values(by='timestamp', ascending=True)\n",
    "        elif data_mode == 'Monthly':\n",
    "            # Convert months that are int to str and add a leading zero if necessary\n",
    "            data_final_df['month'] = data_final_df['month'].astype(str).str.zfill(2)\n",
    "            data_final_df = data_final_df.sort_values(by=['year', 'month'], ascending=True)\n",
    "        elif data_mode == 'Quarterly':\n",
    "            data_final_df = data_final_df.sort_values(by=['year', 'quarter'], ascending=True)\n",
    "\n",
    "        filename = DATA_DIR / f'{fiat_currency}_{data_mode.lower()}_data.csv'\n",
    "        data_final_df.to_csv(filename, index=False)"
   ],
   "id": "948fb8817c8b94ae",
   "outputs": [],
   "execution_count": 36
  },
  {
   "metadata": {
    "ExecuteTime": {
     "end_time": "2025-05-31T22:49:29.213356Z",
     "start_time": "2025-04-28T18:37:40.869744Z"
    }
   },
   "cell_type": "code",
   "source": " ",
   "id": "c74e385cf094baf7",
   "outputs": [],
   "execution_count": 19
  }
 ],
 "metadata": {
  "kernelspec": {
   "display_name": "Python 3",
   "language": "python",
   "name": "python3"
  },
  "language_info": {
   "codemirror_mode": {
    "name": "ipython",
    "version": 2
   },
   "file_extension": ".py",
   "mimetype": "text/x-python",
   "name": "python",
   "nbconvert_exporter": "python",
   "pygments_lexer": "ipython2",
   "version": "2.7.6"
  }
 },
 "nbformat": 4,
 "nbformat_minor": 5
}
