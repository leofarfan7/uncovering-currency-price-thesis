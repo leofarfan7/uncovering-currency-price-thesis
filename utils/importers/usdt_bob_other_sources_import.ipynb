{
 "cells": [
  {
   "cell_type": "code",
   "id": "initial_id",
   "metadata": {
    "collapsed": true,
    "ExecuteTime": {
     "end_time": "2025-04-30T12:24:59.481605Z",
     "start_time": "2025-04-30T12:24:59.474977Z"
    }
   },
   "source": [
    "from io import StringIO\n",
    "\n",
    "import pandas as pd\n",
    "import requests\n",
    "from tqdm import tqdm\n",
    "\n",
    "import config\n",
    "from utils.mongo_controller import mongo_controller\n",
    "\n",
    "data_dir = config.DATA_DIR\n",
    "datasets_dir = data_dir / 'bob_usdt_datasets'\n",
    "\n",
    "bolivian_blue_csv = datasets_dir / 'BolivianBlue.csv'\n",
    "cripto_ya_csv = datasets_dir / 'CriptoYA-recent.csv'"
   ],
   "outputs": [],
   "execution_count": 6
  },
  {
   "metadata": {
    "ExecuteTime": {
     "end_time": "2025-04-28T15:04:26.499901Z",
     "start_time": "2025-04-28T15:04:25.517102Z"
    }
   },
   "cell_type": "code",
   "source": [
    "# Import data from BolivianBlue.csv\n",
    "# Read it to a pandas dataframe\n",
    "bolivian_blue_df = pd.read_csv(bolivian_blue_csv)\n",
    "# Convert all column 'Fecha' into datetime format. Original data is in format DD/MM/YY\n",
    "bolivian_blue_df['Fecha'] = pd.to_datetime(bolivian_blue_df['Fecha'], format='%d/%m/%y')\n",
    "# Localize data to America/La Paz\n",
    "bolivian_blue_df['Fecha'] = bolivian_blue_df['Fecha'].dt.tz_localize('America/La_Paz')\n",
    "\n",
    "for idx, row in tqdm(bolivian_blue_df.iterrows(), total=len(bolivian_blue_df), unit=\"doc\",\n",
    "                     desc=\"Inserting docs\"):\n",
    "    data_dict = {\n",
    "        \"timestamp\": row['Fecha'],\n",
    "        \"source\": \"bolivianblue.com\",\n",
    "        \"sell_price\": row['Compra'],\n",
    "        \"buy_price\": row['Venta']\n",
    "    }\n",
    "    exists = mongo_controller.query_data(_mode=\"one\", collection=\"USDT_BOB_Other\",\n",
    "                                         _filter={\"timestamp\": data_dict[\"timestamp\"],\n",
    "                                                  \"source\": data_dict[\"source\"]})\n",
    "    if not exists:\n",
    "        mongo_controller.save_data(collection=\"USDT_BOB_Other\", data=data_dict)"
   ],
   "id": "670156bd4bc41c59",
   "outputs": [
    {
     "name": "stderr",
     "output_type": "stream",
     "text": [
      "100%|██████████| 43/43 [00:00<00:00, 44.85it/s]\n"
     ]
    }
   ],
   "execution_count": 21
  },
  {
   "metadata": {
    "ExecuteTime": {
     "end_time": "2025-04-30T12:25:08.036319Z",
     "start_time": "2025-04-30T12:25:05.825499Z"
    }
   },
   "cell_type": "code",
   "source": [
    "# Import data from CriptoYA.csv\n",
    "# Read it to a pandas dataframe\n",
    "cripto_ya_df = pd.read_csv(cripto_ya_csv)\n",
    "# Convert all column 'Fecha' into datetime format. Original data is in format YYYY-MM-DD\n",
    "cripto_ya_df['Fecha'] = pd.to_datetime(cripto_ya_df['Fecha'])\n",
    "# Localize data to America/La Paz\n",
    "cripto_ya_df['Fecha'] = cripto_ya_df['Fecha']\n",
    "\n",
    "for idx, row in tqdm(cripto_ya_df.iterrows(), total=len(cripto_ya_df), unit=\"doc\",\n",
    "                     desc=\"Inserting docs\"):\n",
    "    data_dict = {\n",
    "        \"timestamp\": row['Fecha'],\n",
    "        \"source\": \"criptoya.com\",\n",
    "        \"sell_price\": row['Venta'],\n",
    "        \"buy_price\": row['Compra']\n",
    "    }\n",
    "    exists = mongo_controller.query_data(_mode=\"one\", collection=\"USDT_BOB_Other\",\n",
    "                                         _filter={\"timestamp\": data_dict[\"timestamp\"],\n",
    "                                                  \"source\": data_dict[\"source\"]})\n",
    "    if not exists:\n",
    "        mongo_controller.save_data(collection=\"USDT_BOB_Other\", data=data_dict)"
   ],
   "id": "4397188b349833c8",
   "outputs": [
    {
     "name": "stderr",
     "output_type": "stream",
     "text": [
      "Inserting docs: 100%|██████████| 44/44 [00:02<00:00, 20.04doc/s]\n"
     ]
    }
   ],
   "execution_count": 7
  },
  {
   "metadata": {
    "ExecuteTime": {
     "end_time": "2025-04-28T15:18:23.851318Z",
     "start_time": "2025-04-28T15:05:22.262999Z"
    }
   },
   "cell_type": "code",
   "source": [
    "url = \"https://docs.google.com/spreadsheets/d/e/2PACX-1vR2lRBAKrqBFtv_Y8glwaBq28banI80eg3wTOE9Y63LR8iVOjVhpxS3dpeBiqREYM3z1TgA0fdg_h7B/pub?output=csv\"\n",
    "response = requests.get(url)\n",
    "csv_data = StringIO(response.text)\n",
    "dolar_blue_bolivia_df = pd.read_csv(csv_data, header=None)\n",
    "\n",
    "dolar_blue_bolivia_df = dolar_blue_bolivia_df.drop(dolar_blue_bolivia_df.columns[[1, 2]], axis=1)\n",
    "dolar_blue_bolivia_df.columns = ['timestamp', 'buy', 'sell']\n",
    "\n",
    "dolar_blue_bolivia_df['buy'] = dolar_blue_bolivia_df['buy'].str.replace(',', '.').astype(float)\n",
    "dolar_blue_bolivia_df['sell'] = dolar_blue_bolivia_df['sell'].str.replace(',', '.').astype(float)\n",
    "\n",
    "dolar_blue_bolivia_df['timestamp'] = pd.to_datetime(dolar_blue_bolivia_df['timestamp'], format='%d/%m/%Y %H:%M:%S')\n",
    "dolar_blue_bolivia_df['timestamp'] = dolar_blue_bolivia_df['timestamp'].dt.tz_localize('America/La_Paz')\n",
    "\n",
    "dolar_blue_bolivia_df = dolar_blue_bolivia_df[\n",
    "    (dolar_blue_bolivia_df['timestamp'].dt.hour >= 7) & (dolar_blue_bolivia_df['timestamp'].dt.hour <= 23)]\n",
    "\n",
    "for idx, row in tqdm(dolar_blue_bolivia_df.iterrows(), total=len(dolar_blue_bolivia_df), unit=\"doc\",\n",
    "                     desc=\"Inserting docs\"):\n",
    "    data_dict = {\n",
    "        \"timestamp\": row['timestamp'],\n",
    "        \"source\": \"dolarbluebolivia.click\",\n",
    "        \"sell_price\": row['sell'],\n",
    "        \"buy_price\": row['buy']\n",
    "    }\n",
    "    exists = mongo_controller.query_data(_mode=\"one\", collection=\"USDT_BOB_Other\",\n",
    "                                         _filter={\"timestamp\": data_dict[\"timestamp\"],\n",
    "                                                  \"source\": data_dict[\"source\"]})\n",
    "    if not exists:\n",
    "        mongo_controller.save_data(collection=\"USDT_BOB_Other\", data=data_dict)"
   ],
   "id": "b7f4759140a14e22",
   "outputs": [
    {
     "name": "stderr",
     "output_type": "stream",
     "text": [
      "Inserting docs: 100%|██████████| 19101/19101 [12:59<00:00, 24.50doc/s]\n"
     ]
    }
   ],
   "execution_count": 23
  },
  {
   "metadata": {},
   "cell_type": "code",
   "source": "",
   "id": "43d073a54146a718",
   "outputs": [],
   "execution_count": null
  }
 ],
 "metadata": {
  "kernelspec": {
   "display_name": "Python 3",
   "language": "python",
   "name": "python3"
  },
  "language_info": {
   "codemirror_mode": {
    "name": "ipython",
    "version": 2
   },
   "file_extension": ".py",
   "mimetype": "text/x-python",
   "name": "python",
   "nbconvert_exporter": "python",
   "pygments_lexer": "ipython2",
   "version": "2.7.6"
  }
 },
 "nbformat": 4,
 "nbformat_minor": 5
}
